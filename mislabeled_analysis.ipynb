{
  "cells": [
    {
      "cell_type": "markdown",
      "metadata": {
        "colab_type": "text",
        "id": "view-in-github"
      },
      "source": [
        "<a href=\"https://colab.research.google.com/github/nathan-barry/ai2-cartography-reimplementation/blob/main/mislabeled_analysis.ipynb\" target=\"_parent\"><img src=\"https://colab.research.google.com/assets/colab-badge.svg\" alt=\"Open In Colab\"/></a>"
      ]
    },
    {
      "cell_type": "code",
      "execution_count": null,
      "metadata": {
        "colab": {
          "base_uri": "https://localhost:8080/"
        },
        "id": "Jc1nBoYVAsi-",
        "outputId": "cacd13d5-c431-4962-d6ef-8bac470b805c"
      },
      "outputs": [],
      "source": [
        "# Mount Drive\n",
        "from google.colab import drive\n",
        "drive.mount('/content/drive')"
      ]
    },
    {
      "cell_type": "code",
      "execution_count": null,
      "metadata": {
        "id": "NxYAnLRqBVt6"
      },
      "outputs": [],
      "source": [
        "import pandas as pd\n",
        "# Load the CSV file into a pandas DataFrame\n",
        "hardest_df = pd.read_csv('/content/drive/MyDrive/Colab Notebooks/NLP Final Project/Data/hardest_examples.csv')\n",
        "\n",
        "# Drop confidence and variability\n",
        "examples_df = hardest_df.drop(columns=[\"confidence\", \"variability\"])"
      ]
    },
    {
      "cell_type": "code",
      "execution_count": null,
      "metadata": {
        "colab": {
          "base_uri": "https://localhost:8080/",
          "height": 206
        },
        "id": "8k-J1kAsFKSg",
        "outputId": "595add8a-30d5-4690-8d58-5a1b7749ac85"
      },
      "outputs": [],
      "source": [
        "examples_df.head()"
      ]
    },
    {
      "cell_type": "code",
      "execution_count": null,
      "metadata": {
        "id": "kTukCjMXBeUv"
      },
      "outputs": [],
      "source": [
        "results_df = pd.read_csv(\"/content/drive/MyDrive/Colab Notebooks/NLP Final Project/Data/alpaca-mislabels.csv\")"
      ]
    },
    {
      "cell_type": "code",
      "execution_count": null,
      "metadata": {
        "id": "2Rl4yB2GCika"
      },
      "outputs": [],
      "source": [
        "sample_df = results_df.sample(n=5, replace=False)"
      ]
    },
    {
      "cell_type": "code",
      "execution_count": null,
      "metadata": {
        "id": "hBvphbZ-Cpea"
      },
      "outputs": [],
      "source": [
        "filtered_df = examples_df[examples_df[\"index\"].isin(sample_df[\"Index\"].tolist())]"
      ]
    },
    {
      "cell_type": "code",
      "execution_count": null,
      "metadata": {
        "colab": {
          "base_uri": "https://localhost:8080/",
          "height": 206
        },
        "id": "2JxFymHLFBCQ",
        "outputId": "61612ad7-f0a8-4d12-f2a2-eb62d2beefc7"
      },
      "outputs": [],
      "source": [
        "filtered_df.head()\n",
        "\n",
        "# m, c, m, m, c"
      ]
    },
    {
      "cell_type": "code",
      "execution_count": null,
      "metadata": {
        "colab": {
          "base_uri": "https://localhost:8080/",
          "height": 206
        },
        "id": "KRgBdJNhDiDn",
        "outputId": "8fbf2099-e001-4907-c026-8982d4396ebc"
      },
      "outputs": [],
      "source": [
        "sample_df.head()"
      ]
    },
    {
      "cell_type": "code",
      "execution_count": null,
      "metadata": {
        "colab": {
          "base_uri": "https://localhost:8080/"
        },
        "id": "QHdo9rdxbPBk",
        "outputId": "feb322cf-50a9-4849-c143-cb1fb6cc4bf0"
      },
      "outputs": [],
      "source": [
        "results_df[\"Classification\"].value_counts()"
      ]
    },
    {
      "cell_type": "code",
      "execution_count": null,
      "metadata": {
        "colab": {
          "base_uri": "https://localhost:8080/",
          "height": 677
        },
        "id": "NZbcnq6wc6Rq",
        "outputId": "9187649a-8e94-45fd-ee4a-5c86bf1c05e0"
      },
      "outputs": [],
      "source": [
        "results_df.head(20)"
      ]
    },
    {
      "cell_type": "code",
      "execution_count": null,
      "metadata": {
        "id": "QEuuHmtiRJuS"
      },
      "outputs": [],
      "source": [
        "results_df = results_df.drop(results_df.index[-1])"
      ]
    },
    {
      "cell_type": "code",
      "execution_count": null,
      "metadata": {
        "colab": {
          "base_uri": "https://localhost:8080/",
          "height": 472
        },
        "id": "LfOIfPfIfP1O",
        "outputId": "57f02917-4c61-4763-dd81-f603b066576c"
      },
      "outputs": [],
      "source": [
        "import pandas as pd\n",
        "import numpy as np\n",
        "import matplotlib.pyplot as plt\n",
        "\n",
        "# Assuming you have a DataFrame called 'results_df' with a column called 'Classification'\n",
        "\n",
        "# Calculate the mislabeled percentages for every 10 examples\n",
        "step = 50\n",
        "mislabeled_percentages = []\n",
        "for i in range(0, len(results_df), step):\n",
        "    mislabeled_count = (results_df[\"Classification\"][i:i+step] == \"Mislabeled\").sum()\n",
        "    mislabeled_percent = (mislabeled_count / step) * 100\n",
        "    mislabeled_percentages.append(mislabeled_percent)\n",
        "\n",
        "# Create a line chart\n",
        "x = np.arange(0, len(results_df), step)\n",
        "plt.plot(x, mislabeled_percentages, marker='o')\n",
        "plt.xlabel(\"Example Index\")\n",
        "plt.ylabel(\"Mislabeled Percentage\")\n",
        "plt.title(\"Mislabeled Percentage for Every 50 Examples\")\n",
        "plt.grid()\n",
        "plt.show()\n"
      ]
    },
    {
      "cell_type": "code",
      "execution_count": null,
      "metadata": {
        "colab": {
          "base_uri": "https://localhost:8080/"
        },
        "id": "C5SIX1vnRFYk",
        "outputId": "7e6aed00-7ece-4070-a40a-7607cb9cd951"
      },
      "outputs": [],
      "source": [
        "print(len(results_df))"
      ]
    },
    {
      "cell_type": "code",
      "execution_count": null,
      "metadata": {
        "id": "rrinD63snBm5"
      },
      "outputs": [],
      "source": [
        "# Load the CSV file into a pandas DataFrame\n",
        "easiest_df = pd.read_csv('/content/drive/MyDrive/data_arrays/easiest_examples.csv')\n",
        "\n",
        "# Drop confidence and variability\n",
        "easy_df = easiest_df.drop(columns=[\"confidence\", \"variability\"])"
      ]
    },
    {
      "cell_type": "code",
      "execution_count": null,
      "metadata": {
        "id": "j3wVVIEVrgBE"
      },
      "outputs": [],
      "source": [
        "# Assuming you have a DataFrame called 'easy_df' with a column called 'Classification'\n",
        "\n",
        "# Calculate the mislabeled percentages for every 10 examples\n",
        "step = 50\n",
        "mislabeled_percentages = []\n",
        "for i in range(0, len(results_df), step):\n",
        "    mislabeled_count = (results_df[\"Classification\"][i:i+step] == \"Mislabeled\").sum()\n",
        "    mislabeled_percent = (mislabeled_count / step) * 100\n",
        "    mislabeled_percentages.append(mislabeled_percent)\n",
        "\n",
        "# Create a line chart\n",
        "x = np.arange(0, len(results_df), step)\n",
        "plt.plot(x, mislabeled_percentages, marker='o')\n",
        "plt.xlabel(\"Example Index\")\n",
        "plt.ylabel(\"Mislabeled Percentage\")\n",
        "plt.title(\"Mislabeled Percentage for Every 10 Examples\")\n",
        "plt.grid()\n",
        "plt.show()"
      ]
    }
  ],
  "metadata": {
    "colab": {
      "authorship_tag": "ABX9TyMCBWebtjMR6S619zmDefER",
      "include_colab_link": true,
      "provenance": []
    },
    "kernelspec": {
      "display_name": "Python 3",
      "name": "python3"
    },
    "language_info": {
      "name": "python"
    }
  },
  "nbformat": 4,
  "nbformat_minor": 0
}
