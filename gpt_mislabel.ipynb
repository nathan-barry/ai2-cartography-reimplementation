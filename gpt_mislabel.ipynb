{
  "cells": [
    {
      "cell_type": "markdown",
      "metadata": {
        "colab_type": "text",
        "id": "view-in-github"
      },
      "source": [
        "<a href=\"https://colab.research.google.com/github/nathan-barry/ai2-cartography-reimplementation/blob/main/gpt_mislabel.ipynb\" target=\"_parent\"><img src=\"https://colab.research.google.com/assets/colab-badge.svg\" alt=\"Open In Colab\"/></a>"
      ]
    },
    {
      "cell_type": "code",
      "execution_count": null,
      "metadata": {
        "colab": {
          "base_uri": "https://localhost:8080/"
        },
        "id": "0ANyucpP7BLl",
        "outputId": "b62a7561-6504-4684-896b-008fed36d1a0"
      },
      "outputs": [],
      "source": [
        "!pip install langchain openai"
      ]
    },
    {
      "cell_type": "code",
      "execution_count": null,
      "metadata": {
        "id": "k9F4Rm5i7_6X"
      },
      "outputs": [],
      "source": [
        "import os\n",
        "os.environ[\"OPENAI_API_KEY\"] = \"KEY_GOES_HERE\""
      ]
    },
    {
      "cell_type": "code",
      "execution_count": null,
      "metadata": {
        "id": "g3Vmtdwl8oKZ"
      },
      "outputs": [],
      "source": [
        "from langchain.llms import OpenAI\n",
        "from langchain import PromptTemplate, LLMChain"
      ]
    },
    {
      "cell_type": "code",
      "execution_count": null,
      "metadata": {
        "colab": {
          "base_uri": "https://localhost:8080/"
        },
        "id": "YNJ_WpnZ9Lij",
        "outputId": "798d0e36-3b19-4812-949a-3c5f31f617ac"
      },
      "outputs": [],
      "source": [
        "# Mount Drive\n",
        "from google.colab import drive\n",
        "drive.mount('/content/drive')"
      ]
    },
    {
      "cell_type": "code",
      "execution_count": null,
      "metadata": {
        "id": "Kz8eso9a9Nyv"
      },
      "outputs": [],
      "source": [
        "import pandas as pd\n",
        "# Load the CSV file into a pandas DataFrame\n",
        "hardest_df = pd.read_csv('/content/drive/MyDrive/data_arrays/hardest_examples.csv')"
      ]
    },
    {
      "cell_type": "code",
      "execution_count": null,
      "metadata": {
        "id": "P6mc78gNe5zY"
      },
      "outputs": [],
      "source": [
        "# Load the CSV file into a pandas DataFrame\n",
        "easiest_df = pd.read_csv('/content/drive/MyDrive/data_arrays/easiest_examples.csv')"
      ]
    },
    {
      "cell_type": "code",
      "execution_count": null,
      "metadata": {
        "colab": {
          "base_uri": "https://localhost:8080/",
          "height": 363
        },
        "id": "ukuwuv859Ox3",
        "outputId": "ea16d95f-85e7-4255-9002-4820f4b5f45b"
      },
      "outputs": [],
      "source": [
        "# hardest_df.head(10)\n",
        "easiest_df.head(10)\n",
        "# 0: entailment\n",
        "# 1: neutral\n",
        "# 2: contradiction"
      ]
    },
    {
      "cell_type": "code",
      "execution_count": null,
      "metadata": {
        "id": "BayCzxEE9Tr-"
      },
      "outputs": [],
      "source": [
        "# Drop confidence and variability\n",
        "# examples_df = hardest_df.drop(columns=[\"confidence\", \"variability\"])\n",
        "examples_df = easiest_df.drop(columns=[\"confidence\", \"variability\"])\n",
        "\n",
        "# Get examples\n",
        "examples = examples_df.to_dict(orient='records')"
      ]
    },
    {
      "cell_type": "code",
      "execution_count": null,
      "metadata": {
        "id": "Pm-wcsey8rYS"
      },
      "outputs": [],
      "source": [
        "llm = OpenAI(temperature=0.2)"
      ]
    },
    {
      "cell_type": "code",
      "execution_count": null,
      "metadata": {
        "id": "LKoiB9Gl8xwV"
      },
      "outputs": [],
      "source": [
        "template = \"\"\"Evaluate the following potentially mislabeled example from the SNLI dataset.\n",
        "Each example has a premise, hypothesis, and label (0=entailment, 1=neutral, 2=contradiction).\n",
        "Determine if it's mislabeled or correct, explain why, and provide the correct label if mislabeled.\n",
        "Start your answer with either \"Mislabeled:\" or \"Correct:\", followed by your reasoning. \n",
        "End with \"Correct Label: <label number>\".\n",
        "\n",
        "Example:\n",
        "{snli_example}\n",
        "\n",
        "Answer:\"\"\"\n",
        "\n",
        "prompt = PromptTemplate(template=template, input_variables=[\"snli_example\"])\n",
        "\n",
        "llm_chain = LLMChain(prompt=prompt, llm=llm)"
      ]
    },
    {
      "cell_type": "code",
      "execution_count": null,
      "metadata": {
        "colab": {
          "base_uri": "https://localhost:8080/"
        },
        "id": "CqB4KKbONqF2",
        "outputId": "6479eb18-64bc-4a6f-a032-172ea186593d"
      },
      "outputs": [],
      "source": [
        "count_df = examples_df.drop(columns=[\"index\"])\n",
        "counts = count_df.to_dict(orient='records')\n",
        "\n",
        "# Calculate cost\n",
        "template_char_cnt = len(template)\n",
        "num_examples = len(counts)\n",
        "text_char_cnt = len(str(counts))\n",
        "\n",
        "print(template_char_cnt)\n",
        "print(num_examples)\n",
        "print(text_char_cnt)"
      ]
    },
    {
      "cell_type": "code",
      "execution_count": null,
      "metadata": {
        "colab": {
          "base_uri": "https://localhost:8080/"
        },
        "id": "gwK2tP5jtGGT",
        "outputId": "db501840-8e3b-450b-88ef-a9c1cd33cacd"
      },
      "outputs": [],
      "source": [
        "total_char = (template_char_cnt * num_examples) + text_char_cnt\n",
        "token_guess = total_char // 4\n",
        "cost_per_token = .002 / 1000\n",
        "\n",
        "print(total_char)\n",
        "print(token_guess)\n",
        "print(cost_per_token)\n",
        "print(token_guess * cost_per_token)"
      ]
    },
    {
      "cell_type": "code",
      "execution_count": null,
      "metadata": {
        "colab": {
          "base_uri": "https://localhost:8080/"
        },
        "id": "C4rILa2Ct6h_",
        "outputId": "68811d6a-4e9d-4dba-d361-48d65a9c0255"
      },
      "outputs": [],
      "source": [
        "1_000_000 / 1000 * .002"
      ]
    },
    {
      "cell_type": "code",
      "execution_count": null,
      "metadata": {
        "id": "jgmTHAURL2mc"
      },
      "outputs": [],
      "source": [
        "import re\n",
        "\n",
        "def parse_output(output):\n",
        "    try:\n",
        "        classification_match = re.search(r\"^\\s*(Mislabeled|Correct):\", output)\n",
        "        if classification_match:\n",
        "            classification = classification_match.group(1)\n",
        "        else:\n",
        "            return \"Parsing Error\", None, None\n",
        "\n",
        "        reasoning = output.split(\":\")[1].strip().rsplit(\" \", 1)[0].strip()\n",
        "        correct_label = None\n",
        "        correct_label_match = re.search(r\"Correct Label: (\\d)\", output)\n",
        "        if correct_label_match:\n",
        "            correct_label = int(correct_label_match.group(1))\n",
        "        \n",
        "        return classification, correct_label, reasoning\n",
        "    except Exception as e:\n",
        "        print(f\"Error parsing output: {output}\\nError: {e}\")\n",
        "        return \"Parsing Error\", None, None"
      ]
    },
    {
      "cell_type": "code",
      "execution_count": null,
      "metadata": {
        "id": "sZK2H3ruyfbL"
      },
      "outputs": [],
      "source": [
        "results_df = pd.DataFrame(columns=[\"Classification\", \"Predicted Label\", \"Reasoning\"])\n",
        "failed_examples = []"
      ]
    },
    {
      "cell_type": "code",
      "execution_count": null,
      "metadata": {
        "colab": {
          "base_uri": "https://localhost:8080/",
          "height": 435
        },
        "id": "bWbHwviVK3sT",
        "outputId": "5513b0a2-9f86-4c3d-da5b-82fdc820a5ed"
      },
      "outputs": [],
      "source": [
        "for i, example in enumerate(examples):\n",
        "  id = example.pop(\"index\")\n",
        "  output = llm_chain.run(str(example))\n",
        "  if (i+1) % 50 == 0:\n",
        "    print(f\"i: {i+1}, output: {output}, example_len: {len(str(example))}\")\n",
        "  classification, predicted_label, reasoning = parse_output(output)\n",
        "  \n",
        "  if classification == \"Parsing Error\":\n",
        "    failed_examples.append(i)\n",
        "  else:\n",
        "    new_row = pd.DataFrame({\"Index\": [id], \"Classification\": [classification], \"Predicted Label\": [predicted_label], \"Reasoning\": [reasoning]})\n",
        "    results_df = pd.concat([results_df, new_row], ignore_index=True)"
      ]
    },
    {
      "cell_type": "code",
      "execution_count": null,
      "metadata": {
        "id": "A8JujkEly3s3"
      },
      "outputs": [],
      "source": [
        "results_df.to_csv(\"/content/drive/MyDrive/data_arrays/alpaca-mislabels.csv\")"
      ]
    },
    {
      "cell_type": "code",
      "execution_count": null,
      "metadata": {
        "colab": {
          "base_uri": "https://localhost:8080/",
          "height": 206
        },
        "id": "vSjbklthuh5I",
        "outputId": "5f4a1b70-67ab-4791-b3c9-85ca1c52a12b"
      },
      "outputs": [],
      "source": [
        "examples_df.head()"
      ]
    },
    {
      "cell_type": "code",
      "execution_count": null,
      "metadata": {
        "colab": {
          "base_uri": "https://localhost:8080/"
        },
        "id": "GzeUhNlbuQwF",
        "outputId": "5a36bc08-6091-408e-d469-6ab31d07787e"
      },
      "outputs": [],
      "source": [
        "results_df[\"Classification\"].value_counts()"
      ]
    },
    {
      "cell_type": "code",
      "execution_count": null,
      "metadata": {
        "colab": {
          "base_uri": "https://localhost:8080/",
          "height": 231
        },
        "id": "cEpsCIPtI5_Y",
        "outputId": "4788e5d0-97f5-42fc-bdd0-5bbb9b9da71b"
      },
      "outputs": [],
      "source": [
        "results_df.head()"
      ]
    }
  ],
  "metadata": {
    "colab": {
      "authorship_tag": "ABX9TyMo+KgD05C9X1wW0WIUcxMG",
      "include_colab_link": true,
      "provenance": []
    },
    "kernelspec": {
      "display_name": "Python 3",
      "name": "python3"
    },
    "language_info": {
      "name": "python"
    }
  },
  "nbformat": 4,
  "nbformat_minor": 0
}
