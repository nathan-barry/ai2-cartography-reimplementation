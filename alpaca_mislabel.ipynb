{
  "cells": [
    {
      "cell_type": "markdown",
      "metadata": {
        "colab_type": "text",
        "id": "view-in-github"
      },
      "source": [
        "<a href=\"https://colab.research.google.com/github/nathan-barry/ai2-cartography-reimplementation/blob/main/alpaca_mislabel.ipynb\" target=\"_parent\"><img src=\"https://colab.research.google.com/assets/colab-badge.svg\" alt=\"Open In Colab\"/></a>"
      ]
    },
    {
      "cell_type": "code",
      "execution_count": null,
      "metadata": {
        "colab": {
          "base_uri": "https://localhost:8080/"
        },
        "id": "PPPJbLEJZiKp",
        "outputId": "adb8d536-c637-4726-d835-c6c27509e3cb"
      },
      "outputs": [],
      "source": [
        "# !pip -q install git+https://github.com/huggingface/transformers # need to install from github\n",
        "!pip install -q datasets loralib sentencepiece transformers\n",
        "!pip -q install bitsandbytes accelerate\n",
        "!pip -q install langchain"
      ]
    },
    {
      "cell_type": "code",
      "execution_count": null,
      "metadata": {
        "colab": {
          "base_uri": "https://localhost:8080/"
        },
        "id": "nwFV8XHwdhG0",
        "outputId": "8fc606ce-b713-4e1a-a650-5249cda46be2"
      },
      "outputs": [],
      "source": [
        "!nvidia-smi"
      ]
    },
    {
      "cell_type": "code",
      "execution_count": null,
      "metadata": {
        "id": "brMsPBi4X9X_"
      },
      "outputs": [],
      "source": [
        "import numpy as np\n",
        "import pandas as pd\n",
        "import matplotlib.pyplot as plt\n",
        "\n",
        "from transformers import LlamaTokenizer, LlamaForCausalLM, GenerationConfig, pipeline\n",
        "from langchain.llms import HuggingFacePipeline\n",
        "from langchain import PromptTemplate, LLMChain\n",
        "\n",
        "import torch"
      ]
    },
    {
      "cell_type": "code",
      "execution_count": null,
      "metadata": {
        "colab": {
          "base_uri": "https://localhost:8080/"
        },
        "id": "sUuv_OXfYC0f",
        "outputId": "25cb8430-34b6-444f-d4d5-f87f08bb08da"
      },
      "outputs": [],
      "source": [
        "# Mount Drive\n",
        "from google.colab import drive\n",
        "drive.mount('/content/drive')"
      ]
    },
    {
      "cell_type": "code",
      "execution_count": null,
      "metadata": {
        "id": "a7VopAaIXd1J"
      },
      "outputs": [],
      "source": [
        "# Load the CSV file into a pandas DataFrame\n",
        "hardest_df = pd.read_csv('/content/drive/MyDrive/data_arrays/hardest_examples.csv')"
      ]
    },
    {
      "cell_type": "code",
      "execution_count": null,
      "metadata": {
        "colab": {
          "base_uri": "https://localhost:8080/",
          "height": 546
        },
        "id": "lH5DagRQaeyF",
        "outputId": "7de242ad-ae0f-42d2-b040-96e001086807"
      },
      "outputs": [],
      "source": [
        "hardest_df.head(10)\n",
        "# 0: entailment\n",
        "# 1: neutral\n",
        "# 2: contradiction"
      ]
    },
    {
      "cell_type": "code",
      "execution_count": null,
      "metadata": {
        "id": "kZXl9wfnaxl-"
      },
      "outputs": [],
      "source": [
        "# Drop confidence and variability\n",
        "examples_df = hardest_df.drop(columns=[\"confidence\", \"variability\"])\n",
        "\n",
        "# Get examples\n",
        "examples = examples_df.to_dict(orient='records')"
      ]
    },
    {
      "cell_type": "code",
      "execution_count": null,
      "metadata": {
        "colab": {
          "base_uri": "https://localhost:8080/",
          "height": 1000,
          "referenced_widgets": [
            "e2e12554347f42138ecb265322624e3b",
            "8159fd5a30ab4a1d91c402cdf8069e7b",
            "75b97e67a0a0444d9d1cfa00c5504e42",
            "dc5bd2229fab420eb5d1adf3351f8915",
            "fc24fed2ff9742c8a9a0a2c756fcbc90",
            "95ed9554339b468992ed57dc5b6a98ca",
            "aa9385505cfc41f9a23f1d964e8a455e",
            "016d7316aa2b4a378b42d3fae7e48014",
            "454d43d450be4ac892b81ae5465764e5",
            "3a07725603b34f5f8054f5ae7fb0dfd2",
            "5e154315b9b048c4b6cef98a8fc0b1ae"
          ]
        },
        "id": "faL2hhihKVI-",
        "outputId": "d6e6ac75-64da-47f1-942b-9af4282949b5"
      },
      "outputs": [],
      "source": [
        "tokenizer = LlamaTokenizer.from_pretrained(\"chavinlo/alpaca-native\")\n",
        "\n",
        "base_model = LlamaForCausalLM.from_pretrained(\n",
        "    \"chavinlo/alpaca-native\",\n",
        "    load_in_8bit=True,\n",
        "    device_map='auto'\n",
        ")"
      ]
    },
    {
      "cell_type": "code",
      "execution_count": null,
      "metadata": {
        "id": "0xncTP2WKi2E"
      },
      "outputs": [],
      "source": [
        "pipe = pipeline(\n",
        "    \"text-generation\",\n",
        "    model=base_model,\n",
        "    tokenizer=tokenizer,\n",
        "    max_length=256,\n",
        "    temperature=0.6,\n",
        "    top_p=.95,\n",
        ")\n",
        "\n",
        "local_llm = HuggingFacePipeline(pipeline=pipe)"
      ]
    },
    {
      "cell_type": "code",
      "execution_count": null,
      "metadata": {
        "id": "4WHONYOSKi8H"
      },
      "outputs": [],
      "source": [
        "from langchain import PromptTemplate, LLMChain\n",
        "\n",
        "template = \"\"\"Below are examples from Stanford's Natural Language dataset. These examples have been\n",
        "flagged as potentially mislabeled. Each example has a premise, hypothesis, and label (0=entailment,\n",
        "1=neutral, 2=contradiction). Given the example, do you think it is mislabeled or correct? Explain\n",
        "why. Your answer should start with either \"Mislabeled.\" or \"Correct.\"\n",
        "\n",
        "### Example:\n",
        "{snli_example}\n",
        "\n",
        "Answer:\"\"\"\n",
        "\n",
        "prompt = PromptTemplate(template=template, input_variables=[\"snli_example\"])\n",
        "\n",
        "llm_chain = LLMChain(prompt=prompt, llm=local_llm)"
      ]
    },
    {
      "cell_type": "code",
      "execution_count": null,
      "metadata": {
        "id": "heeBx4OVL0DC"
      },
      "outputs": [],
      "source": [
        "import re\n",
        "\n",
        "def parse_output(output):\n",
        "    try:\n",
        "        classification_match = re.search(r\"^\\s*(Mislabeled|Correct)\\.\", output)\n",
        "        if classification_match:\n",
        "            classification = classification_match.group(1)\n",
        "        else:\n",
        "            return \"Parsing Error\", None, None\n",
        "        \n",
        "        reasoning = output.split(\".\", 1)[1].strip()\n",
        "        \n",
        "        return classification, reasoning\n",
        "    except Exception as e:\n",
        "        print(f\"Error parsing output: {output}\\nError: {e}\")\n",
        "        return \"Parsing Error\", None, None"
      ]
    },
    {
      "cell_type": "code",
      "execution_count": null,
      "metadata": {
        "colab": {
          "base_uri": "https://localhost:8080/",
          "height": 1000
        },
        "id": "t-woGV1UeFL3",
        "outputId": "f09be7c8-e5a0-44e8-f73d-1270782c95d1"
      },
      "outputs": [],
      "source": [
        "results_df = pd.DataFrame(columns=[\"Classification\", \"Reasoning\"])\n",
        "failed_examples = []\n",
        "\n",
        "for i, example in enumerate(examples):\n",
        "  if (i + 1) % 100 == 0:\n",
        "    print(i + 1)\n",
        "  id = example.pop(\"index\")\n",
        "  output = llm_chain.run(str(example))\n",
        "  classification, reasoning = parse_output(output)\n",
        "  \n",
        "  if classification == \"Parsing Error\":\n",
        "    failed_examples.append(i)\n",
        "  else:\n",
        "    new_row = pd.DataFrame({\"Index\": [id], \"Classification\": [classification], \"Reasoning\": [reasoning]})\n",
        "    results_df = pd.concat([results_df, new_row], ignore_index=True)\n",
        "\n",
        "results_df.to_csv(\"'/content/drive/MyDrive/data_arrays/alpaca-mislabels.csv\")"
      ]
    },
    {
      "cell_type": "code",
      "execution_count": null,
      "metadata": {
        "colab": {
          "base_uri": "https://localhost:8080/",
          "height": 81
        },
        "id": "cgHwF_96rMtS",
        "outputId": "f5d86c74-61a9-4a31-89ec-96aba1b1f164"
      },
      "outputs": [],
      "source": [
        "results_pd.head()"
      ]
    }
  ],
  "metadata": {
    "accelerator": "GPU",
    "colab": {
      "authorship_tag": "ABX9TyPerNUK0eMnZC1mwfUQd1gE",
      "include_colab_link": true,
      "machine_shape": "hm",
      "provenance": []
    },
    "gpuClass": "premium",
    "kernelspec": {
      "display_name": "Python 3",
      "name": "python3"
    },
    "language_info": {
      "name": "python"
    },
    "widgets": {
      "application/vnd.jupyter.widget-state+json": {
        "016d7316aa2b4a378b42d3fae7e48014": {
          "model_module": "@jupyter-widgets/base",
          "model_module_version": "1.2.0",
          "model_name": "LayoutModel",
          "state": {
            "_model_module": "@jupyter-widgets/base",
            "_model_module_version": "1.2.0",
            "_model_name": "LayoutModel",
            "_view_count": null,
            "_view_module": "@jupyter-widgets/base",
            "_view_module_version": "1.2.0",
            "_view_name": "LayoutView",
            "align_content": null,
            "align_items": null,
            "align_self": null,
            "border": null,
            "bottom": null,
            "display": null,
            "flex": null,
            "flex_flow": null,
            "grid_area": null,
            "grid_auto_columns": null,
            "grid_auto_flow": null,
            "grid_auto_rows": null,
            "grid_column": null,
            "grid_gap": null,
            "grid_row": null,
            "grid_template_areas": null,
            "grid_template_columns": null,
            "grid_template_rows": null,
            "height": null,
            "justify_content": null,
            "justify_items": null,
            "left": null,
            "margin": null,
            "max_height": null,
            "max_width": null,
            "min_height": null,
            "min_width": null,
            "object_fit": null,
            "object_position": null,
            "order": null,
            "overflow": null,
            "overflow_x": null,
            "overflow_y": null,
            "padding": null,
            "right": null,
            "top": null,
            "visibility": null,
            "width": null
          }
        },
        "3a07725603b34f5f8054f5ae7fb0dfd2": {
          "model_module": "@jupyter-widgets/base",
          "model_module_version": "1.2.0",
          "model_name": "LayoutModel",
          "state": {
            "_model_module": "@jupyter-widgets/base",
            "_model_module_version": "1.2.0",
            "_model_name": "LayoutModel",
            "_view_count": null,
            "_view_module": "@jupyter-widgets/base",
            "_view_module_version": "1.2.0",
            "_view_name": "LayoutView",
            "align_content": null,
            "align_items": null,
            "align_self": null,
            "border": null,
            "bottom": null,
            "display": null,
            "flex": null,
            "flex_flow": null,
            "grid_area": null,
            "grid_auto_columns": null,
            "grid_auto_flow": null,
            "grid_auto_rows": null,
            "grid_column": null,
            "grid_gap": null,
            "grid_row": null,
            "grid_template_areas": null,
            "grid_template_columns": null,
            "grid_template_rows": null,
            "height": null,
            "justify_content": null,
            "justify_items": null,
            "left": null,
            "margin": null,
            "max_height": null,
            "max_width": null,
            "min_height": null,
            "min_width": null,
            "object_fit": null,
            "object_position": null,
            "order": null,
            "overflow": null,
            "overflow_x": null,
            "overflow_y": null,
            "padding": null,
            "right": null,
            "top": null,
            "visibility": null,
            "width": null
          }
        },
        "454d43d450be4ac892b81ae5465764e5": {
          "model_module": "@jupyter-widgets/controls",
          "model_module_version": "1.5.0",
          "model_name": "ProgressStyleModel",
          "state": {
            "_model_module": "@jupyter-widgets/controls",
            "_model_module_version": "1.5.0",
            "_model_name": "ProgressStyleModel",
            "_view_count": null,
            "_view_module": "@jupyter-widgets/base",
            "_view_module_version": "1.2.0",
            "_view_name": "StyleView",
            "bar_color": null,
            "description_width": ""
          }
        },
        "5e154315b9b048c4b6cef98a8fc0b1ae": {
          "model_module": "@jupyter-widgets/controls",
          "model_module_version": "1.5.0",
          "model_name": "DescriptionStyleModel",
          "state": {
            "_model_module": "@jupyter-widgets/controls",
            "_model_module_version": "1.5.0",
            "_model_name": "DescriptionStyleModel",
            "_view_count": null,
            "_view_module": "@jupyter-widgets/base",
            "_view_module_version": "1.2.0",
            "_view_name": "StyleView",
            "description_width": ""
          }
        },
        "75b97e67a0a0444d9d1cfa00c5504e42": {
          "model_module": "@jupyter-widgets/controls",
          "model_module_version": "1.5.0",
          "model_name": "FloatProgressModel",
          "state": {
            "_dom_classes": [],
            "_model_module": "@jupyter-widgets/controls",
            "_model_module_version": "1.5.0",
            "_model_name": "FloatProgressModel",
            "_view_count": null,
            "_view_module": "@jupyter-widgets/controls",
            "_view_module_version": "1.5.0",
            "_view_name": "ProgressView",
            "bar_style": "danger",
            "description": "",
            "description_tooltip": null,
            "layout": "IPY_MODEL_016d7316aa2b4a378b42d3fae7e48014",
            "max": 3,
            "min": 0,
            "orientation": "horizontal",
            "style": "IPY_MODEL_454d43d450be4ac892b81ae5465764e5",
            "value": 0
          }
        },
        "8159fd5a30ab4a1d91c402cdf8069e7b": {
          "model_module": "@jupyter-widgets/controls",
          "model_module_version": "1.5.0",
          "model_name": "HTMLModel",
          "state": {
            "_dom_classes": [],
            "_model_module": "@jupyter-widgets/controls",
            "_model_module_version": "1.5.0",
            "_model_name": "HTMLModel",
            "_view_count": null,
            "_view_module": "@jupyter-widgets/controls",
            "_view_module_version": "1.5.0",
            "_view_name": "HTMLView",
            "description": "",
            "description_tooltip": null,
            "layout": "IPY_MODEL_95ed9554339b468992ed57dc5b6a98ca",
            "placeholder": "​",
            "style": "IPY_MODEL_aa9385505cfc41f9a23f1d964e8a455e",
            "value": "Loading checkpoint shards:   0%"
          }
        },
        "95ed9554339b468992ed57dc5b6a98ca": {
          "model_module": "@jupyter-widgets/base",
          "model_module_version": "1.2.0",
          "model_name": "LayoutModel",
          "state": {
            "_model_module": "@jupyter-widgets/base",
            "_model_module_version": "1.2.0",
            "_model_name": "LayoutModel",
            "_view_count": null,
            "_view_module": "@jupyter-widgets/base",
            "_view_module_version": "1.2.0",
            "_view_name": "LayoutView",
            "align_content": null,
            "align_items": null,
            "align_self": null,
            "border": null,
            "bottom": null,
            "display": null,
            "flex": null,
            "flex_flow": null,
            "grid_area": null,
            "grid_auto_columns": null,
            "grid_auto_flow": null,
            "grid_auto_rows": null,
            "grid_column": null,
            "grid_gap": null,
            "grid_row": null,
            "grid_template_areas": null,
            "grid_template_columns": null,
            "grid_template_rows": null,
            "height": null,
            "justify_content": null,
            "justify_items": null,
            "left": null,
            "margin": null,
            "max_height": null,
            "max_width": null,
            "min_height": null,
            "min_width": null,
            "object_fit": null,
            "object_position": null,
            "order": null,
            "overflow": null,
            "overflow_x": null,
            "overflow_y": null,
            "padding": null,
            "right": null,
            "top": null,
            "visibility": null,
            "width": null
          }
        },
        "aa9385505cfc41f9a23f1d964e8a455e": {
          "model_module": "@jupyter-widgets/controls",
          "model_module_version": "1.5.0",
          "model_name": "DescriptionStyleModel",
          "state": {
            "_model_module": "@jupyter-widgets/controls",
            "_model_module_version": "1.5.0",
            "_model_name": "DescriptionStyleModel",
            "_view_count": null,
            "_view_module": "@jupyter-widgets/base",
            "_view_module_version": "1.2.0",
            "_view_name": "StyleView",
            "description_width": ""
          }
        },
        "dc5bd2229fab420eb5d1adf3351f8915": {
          "model_module": "@jupyter-widgets/controls",
          "model_module_version": "1.5.0",
          "model_name": "HTMLModel",
          "state": {
            "_dom_classes": [],
            "_model_module": "@jupyter-widgets/controls",
            "_model_module_version": "1.5.0",
            "_model_name": "HTMLModel",
            "_view_count": null,
            "_view_module": "@jupyter-widgets/controls",
            "_view_module_version": "1.5.0",
            "_view_name": "HTMLView",
            "description": "",
            "description_tooltip": null,
            "layout": "IPY_MODEL_3a07725603b34f5f8054f5ae7fb0dfd2",
            "placeholder": "​",
            "style": "IPY_MODEL_5e154315b9b048c4b6cef98a8fc0b1ae",
            "value": " 0/3 [00:05&lt;?, ?it/s]"
          }
        },
        "e2e12554347f42138ecb265322624e3b": {
          "model_module": "@jupyter-widgets/controls",
          "model_module_version": "1.5.0",
          "model_name": "HBoxModel",
          "state": {
            "_dom_classes": [],
            "_model_module": "@jupyter-widgets/controls",
            "_model_module_version": "1.5.0",
            "_model_name": "HBoxModel",
            "_view_count": null,
            "_view_module": "@jupyter-widgets/controls",
            "_view_module_version": "1.5.0",
            "_view_name": "HBoxView",
            "box_style": "",
            "children": [
              "IPY_MODEL_8159fd5a30ab4a1d91c402cdf8069e7b",
              "IPY_MODEL_75b97e67a0a0444d9d1cfa00c5504e42",
              "IPY_MODEL_dc5bd2229fab420eb5d1adf3351f8915"
            ],
            "layout": "IPY_MODEL_fc24fed2ff9742c8a9a0a2c756fcbc90"
          }
        },
        "fc24fed2ff9742c8a9a0a2c756fcbc90": {
          "model_module": "@jupyter-widgets/base",
          "model_module_version": "1.2.0",
          "model_name": "LayoutModel",
          "state": {
            "_model_module": "@jupyter-widgets/base",
            "_model_module_version": "1.2.0",
            "_model_name": "LayoutModel",
            "_view_count": null,
            "_view_module": "@jupyter-widgets/base",
            "_view_module_version": "1.2.0",
            "_view_name": "LayoutView",
            "align_content": null,
            "align_items": null,
            "align_self": null,
            "border": null,
            "bottom": null,
            "display": null,
            "flex": null,
            "flex_flow": null,
            "grid_area": null,
            "grid_auto_columns": null,
            "grid_auto_flow": null,
            "grid_auto_rows": null,
            "grid_column": null,
            "grid_gap": null,
            "grid_row": null,
            "grid_template_areas": null,
            "grid_template_columns": null,
            "grid_template_rows": null,
            "height": null,
            "justify_content": null,
            "justify_items": null,
            "left": null,
            "margin": null,
            "max_height": null,
            "max_width": null,
            "min_height": null,
            "min_width": null,
            "object_fit": null,
            "object_position": null,
            "order": null,
            "overflow": null,
            "overflow_x": null,
            "overflow_y": null,
            "padding": null,
            "right": null,
            "top": null,
            "visibility": null,
            "width": null
          }
        }
      }
    }
  },
  "nbformat": 4,
  "nbformat_minor": 0
}
